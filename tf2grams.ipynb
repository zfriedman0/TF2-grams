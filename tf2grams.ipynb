{
 "cells": [
  {
   "cell_type": "code",
   "execution_count": 1,
   "id": "2c142f75",
   "metadata": {},
   "outputs": [
    {
     "name": "stderr",
     "output_type": "stream",
     "text": [
      "[nltk_data] Downloading package brown to /home/zach/nltk_data...\n",
      "[nltk_data]   Package brown is already up-to-date!\n"
     ]
    },
    {
     "data": {
      "text/plain": [
       "True"
      ]
     },
     "execution_count": 1,
     "metadata": {},
     "output_type": "execute_result"
    }
   ],
   "source": [
    "import pandas as pd\n",
    "import math\n",
    "from collections import Counter\n",
    "from numpy.random import random, choice\n",
    "from tqdm import tqdm\n",
    "\n",
    "import nltk\n",
    "from nltk.corpus import brown\n",
    "\n",
    "nltk.download('brown')"
   ]
  },
  {
   "cell_type": "code",
   "execution_count": 2,
   "id": "a7e7c2bd",
   "metadata": {},
   "outputs": [
    {
     "data": {
      "text/html": [
       "<div>\n",
       "<style scoped>\n",
       "    .dataframe tbody tr th:only-of-type {\n",
       "        vertical-align: middle;\n",
       "    }\n",
       "\n",
       "    .dataframe tbody tr th {\n",
       "        vertical-align: top;\n",
       "    }\n",
       "\n",
       "    .dataframe thead th {\n",
       "        text-align: right;\n",
       "    }\n",
       "</style>\n",
       "<table border=\"1\" class=\"dataframe\">\n",
       "  <thead>\n",
       "    <tr style=\"text-align: right;\">\n",
       "      <th></th>\n",
       "      <th>Weapon</th>\n",
       "      <th>Class</th>\n",
       "      <th>Slot</th>\n",
       "    </tr>\n",
       "  </thead>\n",
       "  <tbody>\n",
       "    <tr>\n",
       "      <th>0</th>\n",
       "      <td>Scattergun</td>\n",
       "      <td>Scout</td>\n",
       "      <td>Primary</td>\n",
       "    </tr>\n",
       "    <tr>\n",
       "      <th>1</th>\n",
       "      <td>Force-A-Nature</td>\n",
       "      <td>Scout</td>\n",
       "      <td>Primary</td>\n",
       "    </tr>\n",
       "    <tr>\n",
       "      <th>2</th>\n",
       "      <td>Shortstop</td>\n",
       "      <td>Scout</td>\n",
       "      <td>Primary</td>\n",
       "    </tr>\n",
       "    <tr>\n",
       "      <th>3</th>\n",
       "      <td>Soda Popper</td>\n",
       "      <td>Scout</td>\n",
       "      <td>Primary</td>\n",
       "    </tr>\n",
       "    <tr>\n",
       "      <th>4</th>\n",
       "      <td>Baby Face's Blaster</td>\n",
       "      <td>Scout</td>\n",
       "      <td>Primary</td>\n",
       "    </tr>\n",
       "    <tr>\n",
       "      <th>...</th>\n",
       "      <td>...</td>\n",
       "      <td>...</td>\n",
       "      <td>...</td>\n",
       "    </tr>\n",
       "    <tr>\n",
       "      <th>203</th>\n",
       "      <td>Ham Shank</td>\n",
       "      <td>All</td>\n",
       "      <td>Melee</td>\n",
       "    </tr>\n",
       "    <tr>\n",
       "      <th>204</th>\n",
       "      <td>Golden Frying Pan</td>\n",
       "      <td>All</td>\n",
       "      <td>Melee</td>\n",
       "    </tr>\n",
       "    <tr>\n",
       "      <th>205</th>\n",
       "      <td>Necro Smasher</td>\n",
       "      <td>All</td>\n",
       "      <td>Melee</td>\n",
       "    </tr>\n",
       "    <tr>\n",
       "      <th>206</th>\n",
       "      <td>Crossing Guard</td>\n",
       "      <td>All</td>\n",
       "      <td>Melee</td>\n",
       "    </tr>\n",
       "    <tr>\n",
       "      <th>207</th>\n",
       "      <td>Prinny Machete</td>\n",
       "      <td>All</td>\n",
       "      <td>Melee</td>\n",
       "    </tr>\n",
       "  </tbody>\n",
       "</table>\n",
       "<p>208 rows × 3 columns</p>\n",
       "</div>"
      ],
      "text/plain": [
       "                  Weapon  Class     Slot\n",
       "0             Scattergun  Scout  Primary\n",
       "1         Force-A-Nature  Scout  Primary\n",
       "2              Shortstop  Scout  Primary\n",
       "3            Soda Popper  Scout  Primary\n",
       "4    Baby Face's Blaster  Scout  Primary\n",
       "..                   ...    ...      ...\n",
       "203            Ham Shank    All    Melee\n",
       "204    Golden Frying Pan    All    Melee\n",
       "205        Necro Smasher    All    Melee\n",
       "206       Crossing Guard    All    Melee\n",
       "207       Prinny Machete    All    Melee\n",
       "\n",
       "[208 rows x 3 columns]"
      ]
     },
     "execution_count": 2,
     "metadata": {},
     "output_type": "execute_result"
    }
   ],
   "source": [
    "df = pd.read_csv('./weapons_list.csv')\n",
    "df"
   ]
  },
  {
   "cell_type": "code",
   "execution_count": null,
   "id": "9d500619",
   "metadata": {},
   "outputs": [],
   "source": [
    "class Bigram():\n",
    "    START = '<s>'\n",
    "    END = '</s>'\n",
    "    \n",
    "    def __init__(self, corpus):\n",
    "        self.unigram_counts = Counter() #counts the occurrence of each word in the corpus\n",
    "        self.unigram_probs = Counter() #calcs the probabilities of each word in the corpus\n",
    "        self.bigram_counts = defaultdict(Counter) #counts the occurrence of each bigram (word1, word2) in the corpus\n",
    "        self.bigram_probs = defaultdict(Counter) #calcs trhre probabilties of each bigram\n",
    "        self.vocab_total = 0 #number of unique words in the corpus\n",
    "        self.total_words = 0 #total number of words in the corpus\n",
    "        \n",
    "        self.set_counts(corpus) #use the set_counts (defined below) function to fill unigram_counts and bigram_counts\n",
    "        self.set_probs() #use set_probs (defined below) to fill unigram_probs and bigram_probs\n",
    "        \n",
    "        '''\n",
    "        Function:    format_sentence\n",
    "        Arguments:   sentence\n",
    "        Description: Applies START and END tokens to either end of a sentence in a corpus, and lowercases\n",
    "                     each word in the sentence.\n",
    "        '''\n",
    "        def format_sentence(self, sentence):\n",
    "            return [self.START] + [word.lower() for word in sentence] + [self.END]\n",
    "        \n",
    "        def set_counts(self, sent_list):\n",
    "            for sentence in sent_list:\n",
    "                sentence = self.format_sentence(sentence)\n",
    "                for word in sentence:\n",
    "                    self.unigram_counts[word] += 1"
   ]
  }
 ],
 "metadata": {
  "kernelspec": {
   "display_name": "Python 3",
   "language": "python",
   "name": "python3"
  },
  "language_info": {
   "codemirror_mode": {
    "name": "ipython",
    "version": 3
   },
   "file_extension": ".py",
   "mimetype": "text/x-python",
   "name": "python",
   "nbconvert_exporter": "python",
   "pygments_lexer": "ipython3",
   "version": "3.8.8"
  }
 },
 "nbformat": 4,
 "nbformat_minor": 5
}
